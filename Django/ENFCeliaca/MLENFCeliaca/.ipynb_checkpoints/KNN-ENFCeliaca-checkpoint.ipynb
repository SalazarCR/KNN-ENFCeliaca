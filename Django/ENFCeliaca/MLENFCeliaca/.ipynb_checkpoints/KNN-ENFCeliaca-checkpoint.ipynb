{
 "cells": [
  {
   "cell_type": "code",
   "execution_count": 1,
   "id": "63c63848-f720-4fd1-85ee-ca65524456dc",
   "metadata": {},
   "outputs": [],
   "source": [
    "import pandas as pd\n",
    "import numpy as np\n",
    "import matplotlib.pyplot as plt\n",
    "import seaborn as sns\n",
    "\n",
    "dataframe = pd.read_csv('ENFCeliacaSinDatosPerdidos.csv',sep=';')\n",
    "clasificadores =['Si_tiene','No_tiene']"
   ]
  },
  {
   "cell_type": "code",
   "execution_count": 3,
   "id": "006afde8-088d-43e0-ae26-bc1d55b22535",
   "metadata": {},
   "outputs": [
    {
     "data": {
      "text/html": [
       "<div>\n",
       "<style scoped>\n",
       "    .dataframe tbody tr th:only-of-type {\n",
       "        vertical-align: middle;\n",
       "    }\n",
       "\n",
       "    .dataframe tbody tr th {\n",
       "        vertical-align: top;\n",
       "    }\n",
       "\n",
       "    .dataframe thead th {\n",
       "        text-align: right;\n",
       "    }\n",
       "</style>\n",
       "<table border=\"1\" class=\"dataframe\">\n",
       "  <thead>\n",
       "    <tr style=\"text-align: right;\">\n",
       "      <th></th>\n",
       "      <th>AGE</th>\n",
       "      <th>GENDER</th>\n",
       "      <th>DIABETES</th>\n",
       "      <th>DIABETES_TYPE</th>\n",
       "      <th>DIARRHOEA</th>\n",
       "      <th>SHORT_STATURE</th>\n",
       "      <th>STICKY_STOOL</th>\n",
       "      <th>WEIGHT_LOSS</th>\n",
       "      <th>IGA</th>\n",
       "      <th>IGG</th>\n",
       "      <th>IGM</th>\n",
       "      <th>DISEASE_DIAGOSE</th>\n",
       "    </tr>\n",
       "  </thead>\n",
       "  <tbody>\n",
       "    <tr>\n",
       "      <th>0</th>\n",
       "      <td>10</td>\n",
       "      <td>0</td>\n",
       "      <td>1</td>\n",
       "      <td>1</td>\n",
       "      <td>2</td>\n",
       "      <td>0</td>\n",
       "      <td>0</td>\n",
       "      <td>0</td>\n",
       "      <td>1.30</td>\n",
       "      <td>10.0</td>\n",
       "      <td>1.00</td>\n",
       "      <td>1</td>\n",
       "    </tr>\n",
       "    <tr>\n",
       "      <th>1</th>\n",
       "      <td>9</td>\n",
       "      <td>0</td>\n",
       "      <td>1</td>\n",
       "      <td>1</td>\n",
       "      <td>0</td>\n",
       "      <td>0</td>\n",
       "      <td>0</td>\n",
       "      <td>0</td>\n",
       "      <td>1.50</td>\n",
       "      <td>12.5</td>\n",
       "      <td>1.30</td>\n",
       "      <td>1</td>\n",
       "    </tr>\n",
       "    <tr>\n",
       "      <th>2</th>\n",
       "      <td>8</td>\n",
       "      <td>1</td>\n",
       "      <td>1</td>\n",
       "      <td>1</td>\n",
       "      <td>1</td>\n",
       "      <td>1</td>\n",
       "      <td>1</td>\n",
       "      <td>1</td>\n",
       "      <td>0.40</td>\n",
       "      <td>8.0</td>\n",
       "      <td>0.50</td>\n",
       "      <td>1</td>\n",
       "    </tr>\n",
       "    <tr>\n",
       "      <th>3</th>\n",
       "      <td>10</td>\n",
       "      <td>0</td>\n",
       "      <td>1</td>\n",
       "      <td>1</td>\n",
       "      <td>1</td>\n",
       "      <td>0</td>\n",
       "      <td>0</td>\n",
       "      <td>0</td>\n",
       "      <td>0.98</td>\n",
       "      <td>9.0</td>\n",
       "      <td>0.66</td>\n",
       "      <td>1</td>\n",
       "    </tr>\n",
       "    <tr>\n",
       "      <th>4</th>\n",
       "      <td>9</td>\n",
       "      <td>0</td>\n",
       "      <td>1</td>\n",
       "      <td>1</td>\n",
       "      <td>0</td>\n",
       "      <td>0</td>\n",
       "      <td>0</td>\n",
       "      <td>0</td>\n",
       "      <td>1.00</td>\n",
       "      <td>10.5</td>\n",
       "      <td>1.10</td>\n",
       "      <td>1</td>\n",
       "    </tr>\n",
       "    <tr>\n",
       "      <th>5</th>\n",
       "      <td>8</td>\n",
       "      <td>1</td>\n",
       "      <td>1</td>\n",
       "      <td>1</td>\n",
       "      <td>0</td>\n",
       "      <td>1</td>\n",
       "      <td>1</td>\n",
       "      <td>1</td>\n",
       "      <td>1.10</td>\n",
       "      <td>9.5</td>\n",
       "      <td>1.00</td>\n",
       "      <td>1</td>\n",
       "    </tr>\n",
       "    <tr>\n",
       "      <th>6</th>\n",
       "      <td>9</td>\n",
       "      <td>0</td>\n",
       "      <td>1</td>\n",
       "      <td>1</td>\n",
       "      <td>1</td>\n",
       "      <td>1</td>\n",
       "      <td>1</td>\n",
       "      <td>1</td>\n",
       "      <td>2.10</td>\n",
       "      <td>11.4</td>\n",
       "      <td>1.00</td>\n",
       "      <td>1</td>\n",
       "    </tr>\n",
       "    <tr>\n",
       "      <th>7</th>\n",
       "      <td>5</td>\n",
       "      <td>1</td>\n",
       "      <td>1</td>\n",
       "      <td>1</td>\n",
       "      <td>0</td>\n",
       "      <td>0</td>\n",
       "      <td>1</td>\n",
       "      <td>1</td>\n",
       "      <td>0.80</td>\n",
       "      <td>12.0</td>\n",
       "      <td>0.98</td>\n",
       "      <td>1</td>\n",
       "    </tr>\n",
       "    <tr>\n",
       "      <th>8</th>\n",
       "      <td>6</td>\n",
       "      <td>1</td>\n",
       "      <td>1</td>\n",
       "      <td>1</td>\n",
       "      <td>0</td>\n",
       "      <td>0</td>\n",
       "      <td>1</td>\n",
       "      <td>1</td>\n",
       "      <td>1.50</td>\n",
       "      <td>8.0</td>\n",
       "      <td>1.10</td>\n",
       "      <td>1</td>\n",
       "    </tr>\n",
       "    <tr>\n",
       "      <th>9</th>\n",
       "      <td>4</td>\n",
       "      <td>0</td>\n",
       "      <td>1</td>\n",
       "      <td>1</td>\n",
       "      <td>1</td>\n",
       "      <td>1</td>\n",
       "      <td>1</td>\n",
       "      <td>1</td>\n",
       "      <td>0.42</td>\n",
       "      <td>11.5</td>\n",
       "      <td>1.00</td>\n",
       "      <td>1</td>\n",
       "    </tr>\n",
       "  </tbody>\n",
       "</table>\n",
       "</div>"
      ],
      "text/plain": [
       "   AGE  GENDER  DIABETES  DIABETES_TYPE  DIARRHOEA  SHORT_STATURE  \\\n",
       "0   10       0         1              1          2              0   \n",
       "1    9       0         1              1          0              0   \n",
       "2    8       1         1              1          1              1   \n",
       "3   10       0         1              1          1              0   \n",
       "4    9       0         1              1          0              0   \n",
       "5    8       1         1              1          0              1   \n",
       "6    9       0         1              1          1              1   \n",
       "7    5       1         1              1          0              0   \n",
       "8    6       1         1              1          0              0   \n",
       "9    4       0         1              1          1              1   \n",
       "\n",
       "   STICKY_STOOL  WEIGHT_LOSS   IGA   IGG   IGM  DISEASE_DIAGOSE  \n",
       "0             0            0  1.30  10.0  1.00                1  \n",
       "1             0            0  1.50  12.5  1.30                1  \n",
       "2             1            1  0.40   8.0  0.50                1  \n",
       "3             0            0  0.98   9.0  0.66                1  \n",
       "4             0            0  1.00  10.5  1.10                1  \n",
       "5             1            1  1.10   9.5  1.00                1  \n",
       "6             1            1  2.10  11.4  1.00                1  \n",
       "7             1            1  0.80  12.0  0.98                1  \n",
       "8             1            1  1.50   8.0  1.10                1  \n",
       "9             1            1  0.42  11.5  1.00                1  "
      ]
     },
     "execution_count": 3,
     "metadata": {},
     "output_type": "execute_result"
    }
   ],
   "source": [
    "dataframe.head(10)"
   ]
  },
  {
   "cell_type": "code",
   "execution_count": 5,
   "id": "08ce3c64-abe8-484b-9ba7-cd1236579d5a",
   "metadata": {},
   "outputs": [
    {
     "data": {
      "text/html": [
       "<div>\n",
       "<style scoped>\n",
       "    .dataframe tbody tr th:only-of-type {\n",
       "        vertical-align: middle;\n",
       "    }\n",
       "\n",
       "    .dataframe tbody tr th {\n",
       "        vertical-align: top;\n",
       "    }\n",
       "\n",
       "    .dataframe thead th {\n",
       "        text-align: right;\n",
       "    }\n",
       "</style>\n",
       "<table border=\"1\" class=\"dataframe\">\n",
       "  <thead>\n",
       "    <tr style=\"text-align: right;\">\n",
       "      <th></th>\n",
       "      <th>AGE</th>\n",
       "      <th>GENDER</th>\n",
       "      <th>DIABETES</th>\n",
       "      <th>DIABETES_TYPE</th>\n",
       "      <th>DIARRHOEA</th>\n",
       "      <th>SHORT_STATURE</th>\n",
       "      <th>STICKY_STOOL</th>\n",
       "      <th>WEIGHT_LOSS</th>\n",
       "      <th>IGA</th>\n",
       "      <th>IGG</th>\n",
       "      <th>IGM</th>\n",
       "      <th>DISEASE_DIAGOSE</th>\n",
       "    </tr>\n",
       "  </thead>\n",
       "  <tbody>\n",
       "    <tr>\n",
       "      <th>count</th>\n",
       "      <td>2206.000000</td>\n",
       "      <td>2206.000000</td>\n",
       "      <td>2206.000000</td>\n",
       "      <td>2206.000000</td>\n",
       "      <td>2206.000000</td>\n",
       "      <td>2206.000000</td>\n",
       "      <td>2206.000000</td>\n",
       "      <td>2206.000000</td>\n",
       "      <td>2206.000000</td>\n",
       "      <td>2206.000000</td>\n",
       "      <td>2206.000000</td>\n",
       "      <td>2206.000000</td>\n",
       "    </tr>\n",
       "    <tr>\n",
       "      <th>mean</th>\n",
       "      <td>12.768812</td>\n",
       "      <td>0.491387</td>\n",
       "      <td>0.829102</td>\n",
       "      <td>0.867180</td>\n",
       "      <td>0.971442</td>\n",
       "      <td>0.720762</td>\n",
       "      <td>0.825023</td>\n",
       "      <td>0.686310</td>\n",
       "      <td>1.427384</td>\n",
       "      <td>10.052901</td>\n",
       "      <td>1.236963</td>\n",
       "      <td>0.835449</td>\n",
       "    </tr>\n",
       "    <tr>\n",
       "      <th>std</th>\n",
       "      <td>7.434250</td>\n",
       "      <td>0.500039</td>\n",
       "      <td>0.376505</td>\n",
       "      <td>0.478131</td>\n",
       "      <td>0.819601</td>\n",
       "      <td>0.715868</td>\n",
       "      <td>0.380034</td>\n",
       "      <td>0.464097</td>\n",
       "      <td>1.110042</td>\n",
       "      <td>2.047683</td>\n",
       "      <td>0.447216</td>\n",
       "      <td>0.370859</td>\n",
       "    </tr>\n",
       "    <tr>\n",
       "      <th>min</th>\n",
       "      <td>1.000000</td>\n",
       "      <td>0.000000</td>\n",
       "      <td>0.000000</td>\n",
       "      <td>0.000000</td>\n",
       "      <td>0.000000</td>\n",
       "      <td>0.000000</td>\n",
       "      <td>0.000000</td>\n",
       "      <td>0.000000</td>\n",
       "      <td>0.340000</td>\n",
       "      <td>5.000000</td>\n",
       "      <td>0.500000</td>\n",
       "      <td>0.000000</td>\n",
       "    </tr>\n",
       "    <tr>\n",
       "      <th>25%</th>\n",
       "      <td>8.000000</td>\n",
       "      <td>0.000000</td>\n",
       "      <td>1.000000</td>\n",
       "      <td>1.000000</td>\n",
       "      <td>0.000000</td>\n",
       "      <td>0.000000</td>\n",
       "      <td>1.000000</td>\n",
       "      <td>0.000000</td>\n",
       "      <td>1.000000</td>\n",
       "      <td>8.700000</td>\n",
       "      <td>0.980000</td>\n",
       "      <td>1.000000</td>\n",
       "    </tr>\n",
       "    <tr>\n",
       "      <th>50%</th>\n",
       "      <td>10.000000</td>\n",
       "      <td>0.000000</td>\n",
       "      <td>1.000000</td>\n",
       "      <td>1.000000</td>\n",
       "      <td>1.000000</td>\n",
       "      <td>1.000000</td>\n",
       "      <td>1.000000</td>\n",
       "      <td>1.000000</td>\n",
       "      <td>1.100000</td>\n",
       "      <td>10.000000</td>\n",
       "      <td>1.100000</td>\n",
       "      <td>1.000000</td>\n",
       "    </tr>\n",
       "    <tr>\n",
       "      <th>75%</th>\n",
       "      <td>15.000000</td>\n",
       "      <td>1.000000</td>\n",
       "      <td>1.000000</td>\n",
       "      <td>1.000000</td>\n",
       "      <td>2.000000</td>\n",
       "      <td>1.000000</td>\n",
       "      <td>1.000000</td>\n",
       "      <td>1.000000</td>\n",
       "      <td>1.800000</td>\n",
       "      <td>12.000000</td>\n",
       "      <td>1.500000</td>\n",
       "      <td>1.000000</td>\n",
       "    </tr>\n",
       "    <tr>\n",
       "      <th>max</th>\n",
       "      <td>35.000000</td>\n",
       "      <td>1.000000</td>\n",
       "      <td>1.000000</td>\n",
       "      <td>2.000000</td>\n",
       "      <td>2.000000</td>\n",
       "      <td>2.000000</td>\n",
       "      <td>1.000000</td>\n",
       "      <td>1.000000</td>\n",
       "      <td>9.000000</td>\n",
       "      <td>15.300000</td>\n",
       "      <td>2.700000</td>\n",
       "      <td>1.000000</td>\n",
       "    </tr>\n",
       "  </tbody>\n",
       "</table>\n",
       "</div>"
      ],
      "text/plain": [
       "               AGE       GENDER     DIABETES  DIABETES_TYPE    DIARRHOEA  \\\n",
       "count  2206.000000  2206.000000  2206.000000    2206.000000  2206.000000   \n",
       "mean     12.768812     0.491387     0.829102       0.867180     0.971442   \n",
       "std       7.434250     0.500039     0.376505       0.478131     0.819601   \n",
       "min       1.000000     0.000000     0.000000       0.000000     0.000000   \n",
       "25%       8.000000     0.000000     1.000000       1.000000     0.000000   \n",
       "50%      10.000000     0.000000     1.000000       1.000000     1.000000   \n",
       "75%      15.000000     1.000000     1.000000       1.000000     2.000000   \n",
       "max      35.000000     1.000000     1.000000       2.000000     2.000000   \n",
       "\n",
       "       SHORT_STATURE  STICKY_STOOL  WEIGHT_LOSS          IGA          IGG  \\\n",
       "count    2206.000000   2206.000000  2206.000000  2206.000000  2206.000000   \n",
       "mean        0.720762      0.825023     0.686310     1.427384    10.052901   \n",
       "std         0.715868      0.380034     0.464097     1.110042     2.047683   \n",
       "min         0.000000      0.000000     0.000000     0.340000     5.000000   \n",
       "25%         0.000000      1.000000     0.000000     1.000000     8.700000   \n",
       "50%         1.000000      1.000000     1.000000     1.100000    10.000000   \n",
       "75%         1.000000      1.000000     1.000000     1.800000    12.000000   \n",
       "max         2.000000      1.000000     1.000000     9.000000    15.300000   \n",
       "\n",
       "               IGM  DISEASE_DIAGOSE  \n",
       "count  2206.000000      2206.000000  \n",
       "mean      1.236963         0.835449  \n",
       "std       0.447216         0.370859  \n",
       "min       0.500000         0.000000  \n",
       "25%       0.980000         1.000000  \n",
       "50%       1.100000         1.000000  \n",
       "75%       1.500000         1.000000  \n",
       "max       2.700000         1.000000  "
      ]
     },
     "execution_count": 5,
     "metadata": {},
     "output_type": "execute_result"
    }
   ],
   "source": [
    "dataframe.describe()"
   ]
  },
  {
   "cell_type": "code",
   "execution_count": 9,
   "id": "3d8a6b83-b57c-452b-9539-2e63def3a962",
   "metadata": {},
   "outputs": [
    {
     "data": {
      "text/plain": [
       "DISEASE_DIAGOSE\n",
       "0     363\n",
       "1    1843\n",
       "dtype: int64"
      ]
     },
     "execution_count": 9,
     "metadata": {},
     "output_type": "execute_result"
    }
   ],
   "source": [
    "dataframe.groupby('DISEASE_DIAGOSE').size()"
   ]
  },
  {
   "cell_type": "code",
   "execution_count": 11,
   "id": "e2f41465-55f2-40f5-87e4-fe65cdb9cc9f",
   "metadata": {},
   "outputs": [
    {
     "data": {
      "image/png": "[encoded data removed]",
      "text/plain": [
       "<Figure size 200x250 with 1 Axes>"
      ]
     },
     "metadata": {},
     "output_type": "display_data"
    }
   ],
   "source": [
    "#MOSTRAR GRAFICO DE BARRAS\n",
    "import seaborn as sb\n",
    "\n",
    "#Aseguramos que los numeros son enteros\n",
    "dataframe['DISEASE_DIAGOSE'] = dataframe['DISEASE_DIAGOSE'].astype(int)\n",
    "sb.catplot(x='DISEASE_DIAGOSE', hue='DISEASE_DIAGOSE', data=dataframe, kind=\"count\", height = 2.5, aspect=0.8, palette={0:\"blue\", 1:\"red\"}, legend = False)\n",
    "plt.title(\"Distribucion de Clases\")\n",
    "plt.show()"
   ]
  },
  {
   "cell_type": "code",
   "execution_count": 13,
   "id": "6eb2dcb2-3577-4bc2-8a7e-93519f8913d8",
   "metadata": {},
   "outputs": [],
   "source": [
    "# separamos el dataframe en x y\n",
    "y = dataframe['DISEASE_DIAGOSE']\n",
    "x = dataframe.drop('DISEASE_DIAGOSE', axis = 1)"
   ]
  },
  {
   "cell_type": "code",
   "execution_count": 15,
   "id": "21a2d413-532b-4d43-9cca-10d920ccf280",
   "metadata": {},
   "outputs": [
    {
     "name": "stdout",
     "output_type": "stream",
     "text": [
      "              precision    recall  f1-score   support\n",
      "\n",
      "    Si_tiene       0.96      0.80      0.87       103\n",
      "    No_tiene       0.96      0.99      0.98       559\n",
      "\n",
      "    accuracy                           0.96       662\n",
      "   macro avg       0.96      0.90      0.93       662\n",
      "weighted avg       0.96      0.96      0.96       662\n",
      "\n"
     ]
    },
    {
     "data": {
      "image/png": "[encoded data removed]",
      "text/plain": [
       "<Figure size 640x480 with 2 Axes>"
      ]
     },
     "metadata": {},
     "output_type": "display_data"
    }
   ],
   "source": [
    "from sklearn.model_selection import train_test_split\n",
    "x_train,x_test,y_train, y_test = train_test_split(x,y,test_size=0.3,random_state=30)\n",
    "\n",
    "from sklearn.neighbors import KNeighborsClassifier\n",
    "knn_mm = KNeighborsClassifier(n_neighbors=5)\n",
    "\n",
    "#Entrenar el algoritmo\n",
    "knn_mm.fit(x_train,y_train)\n",
    "\n",
    "predicciones = knn_mm.predict(x_test)\n",
    "\n",
    "from sklearn.metrics import classification_report, confusion_matrix\n",
    "tn, fp, fn, tp = confusion_matrix(y_test,predicciones).ravel()\n",
    "\n",
    "sns.heatmap(confusion_matrix(y_test,predicciones), annot = True, fmt = \"d\")\n",
    "plt.title('MATRIZ DE CONFUSIÓN')\n",
    "plt.xlabel('Predicción')\n",
    "plt.ylabel('Real')\n",
    "\n",
    "print(classification_report(y_test,predicciones,target_names=clasificadores))"
   ]
  },
  {
   "cell_type": "code",
   "execution_count": 17,
   "id": "76893705-35eb-40b4-959d-13f04e95830d",
   "metadata": {},
   "outputs": [
    {
     "data": {
      "text/plain": [
       "[<matplotlib.lines.Line2D at 0x19c6b1c5bd0>]"
      ]
     },
     "execution_count": 17,
     "metadata": {},
     "output_type": "execute_result"
    },
    {
     "data": {
      "image/png": "[encoded data removed]",
      "text/plain": [
       "<Figure size 640x480 with 1 Axes>"
      ]
     },
     "metadata": {},
     "output_type": "display_data"
    }
   ],
   "source": [
    "tasa_error = []\n",
    "for i in range(1,25):\n",
    "    knn_mm = KNeighborsClassifier(n_neighbors=i)\n",
    "    knn_mm.fit(x_train,y_train)\n",
    "    prediction_i = knn_mm.predict(x_test)\n",
    "    tasa_error.append(np.mean(prediction_i != y_test))\n",
    "\n",
    "valores = range(1,25)\n",
    "plt.plot(valores, tasa_error, color=\"green\", marker=\"o\", markerfacecolor = \"red\", markersize = \"8\")"
   ]
  },
  {
   "cell_type": "code",
   "execution_count": 19,
   "id": "86fb8d88-7617-415e-86b2-8f13c0220f4d",
   "metadata": {},
   "outputs": [
    {
     "name": "stdout",
     "output_type": "stream",
     "text": [
      "              precision    recall  f1-score   support\n",
      "\n",
      "    Si_tiene       0.96      0.80      0.87       103\n",
      "    No_tiene       0.96      0.99      0.98       559\n",
      "\n",
      "    accuracy                           0.96       662\n",
      "   macro avg       0.96      0.90      0.93       662\n",
      "weighted avg       0.96      0.96      0.96       662\n",
      "\n"
     ]
    },
    {
     "data": {
      "image/png": "[encoded data removed]",
      "text/plain": [
       "<Figure size 640x480 with 2 Axes>"
      ]
     },
     "metadata": {},
     "output_type": "display_data"
    }
   ],
   "source": [
    "knn_mm = KNeighborsClassifier(n_neighbors=5)\n",
    "\n",
    "#Entrenar el algoritmo\n",
    "knn_mm.fit(x_train,y_train)\n",
    "\n",
    "predicciones = knn_mm.predict(x_test)\n",
    "\n",
    "sns.heatmap(confusion_matrix(y_test,predicciones), annot = True, fmt = \"d\")\n",
    "plt.title('MATRIZ DE CONFUSIÓN')\n",
    "plt.xlabel('Predicción')\n",
    "plt.ylabel('Real')\n",
    "\n",
    "print(classification_report(y_test,predicciones,target_names=clasificadores))"
   ]
  },
  {
   "cell_type": "code",
   "execution_count": 21,
   "id": "9e63a402-0529-421c-9247-ebde21f19267",
   "metadata": {},
   "outputs": [
    {
     "name": "stdout",
     "output_type": "stream",
     "text": [
      "[1]\n",
      "[[0. 1.]]\n"
     ]
    },
    {
     "name": "stderr",
     "output_type": "stream",
     "text": [
      "C:\\Users\\CESAR\\capgit\\FormularioCancerDeMama\\TP3-2025-1\\env\\Lib\\site-packages\\sklearn\\utils\\validation.py:2739: UserWarning: X does not have valid feature names, but KNeighborsClassifier was fitted with feature names\n",
      "  warnings.warn(\n",
      "C:\\Users\\CESAR\\capgit\\FormularioCancerDeMama\\TP3-2025-1\\env\\Lib\\site-packages\\sklearn\\utils\\validation.py:2739: UserWarning: X does not have valid feature names, but KNeighborsClassifier was fitted with feature names\n",
      "  warnings.warn(\n"
     ]
    }
   ],
   "source": [
    "#A probar \n",
    "print(knn_mm.predict([[9,0,1,1,0,0,0,0,1.50,12.5,1.30]]))\n",
    "print(knn_mm.predict_proba([[9,0,1,1,0,0,0,0,1.50,12.5,1.30]]))"
   ]
  },
  {
   "cell_type": "code",
   "execution_count": 23,
   "id": "f7fb27fd-3c86-4fa7-8bd8-76debcbd9ea3",
   "metadata": {},
   "outputs": [
    {
     "name": "stdout",
     "output_type": "stream",
     "text": [
      "[1]\n",
      "[[0. 1.]]\n"
     ]
    }
   ],
   "source": [
    "#corregimos advertencia\n",
    "print(knn_mm.predict(pd.DataFrame([[9,0,1,1,0,0,0,0,1.50,12.5,1.30]], columns=x.columns)))\n",
    "print(knn_mm.predict_proba(pd.DataFrame([[9,0,1,1,0,0,0,0,1.50,12.5,1.30]],columns=x.columns)))"
   ]
  }
 ],
 "metadata": {
  "kernelspec": {
   "display_name": "Env Kernel",
   "language": "python",
   "name": "env"
  },
  "language_info": {
   "codemirror_mode": {
    "name": "ipython",
    "version": 3
   },
   "file_extension": ".py",
   "mimetype": "text/x-python",
   "name": "python",
   "nbconvert_exporter": "python",
   "pygments_lexer": "ipython3",
   "version": "3.13.2"
  }
 },
 "nbformat": 4,
 "nbformat_minor": 5
}
